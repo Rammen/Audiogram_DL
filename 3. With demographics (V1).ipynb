{
 "cells": [
  {
   "cell_type": "markdown",
   "id": "e979ac2d",
   "metadata": {},
   "source": [
    "# Model Iteration - Adding demographics"
   ]
  },
  {
   "cell_type": "code",
   "execution_count": null,
   "id": "a44a9c53",
   "metadata": {},
   "outputs": [],
   "source": [
    "import pandas as pd\n",
    "import tensorflow as tf\n",
    "import numpy as np\n",
    "\n",
    "from tensorflow.keras.models import Sequential\n",
    "from tensorflow.keras.layers import Dense\n",
    "\n",
    "from numpy import mean, std, asarray\n",
    "\n",
    "from sklearn.model_selection import RepeatedKFold\n",
    "from sklearn import preprocessing\n",
    "from sklearn.preprocessing import OneHotEncoder\n",
    "\n",
    "print(tf.__version__)"
   ]
  },
  {
   "cell_type": "markdown",
   "id": "273119b5",
   "metadata": {},
   "source": [
    "# Setting the data\n",
    "\n",
    "For this first iteration, I used the results from the audiogram test and added the remaining features (gender, age, comp_speed, experience) without any transformation. "
   ]
  },
  {
   "cell_type": "code",
   "execution_count": 2,
   "id": "f35196a5",
   "metadata": {},
   "outputs": [
    {
     "name": "stdout",
     "output_type": "stream",
     "text": [
      "(2989, 11) (2989, 7)\n"
     ]
    }
   ],
   "source": [
    "inputs = pd.read_csv('input.csv')\n",
    "X = inputs[['gender','age','comp_speed', 'experience','audr_500', 'audr_1k', 'audr_2k', 'audr_3k', 'audr_4k', 'audr_6k', 'audr_8k']].values[:-10]\n",
    "x_test =  inputs[['gender','age','comp_speed', 'experience', 'audr_500', 'audr_1k', 'audr_2k', 'audr_3k', 'audr_4k', 'audr_6k', 'audr_8k']].values[-10:]\n",
    "\n",
    "outputs = pd.read_csv('output.csv').iloc[:2999]\n",
    "y = outputs.values[:-10]\n",
    "y_test = outputs.values[-10:]\n",
    "\n",
    "print(X.shape, y.shape)"
   ]
  },
  {
   "cell_type": "code",
   "execution_count": 3,
   "id": "6f866a2c",
   "metadata": {},
   "outputs": [],
   "source": [
    "def evaluate_model(X, y):\n",
    "    results = list()\n",
    "    n_inputs, n_outputs = X.shape[1], y.shape[1]\n",
    "    \n",
    "    # define evaluation procedure\n",
    "    cv = RepeatedKFold(n_splits=10, n_repeats=3, random_state=1)\n",
    "    \n",
    "    # enumerate folds\n",
    "    for train_ix, test_ix in cv.split(X):\n",
    "        # prepare data\n",
    "        X_train, X_test = X[train_ix], X[test_ix]\n",
    "        y_train, y_test = y[train_ix], y[test_ix]\n",
    "        \n",
    "        # define model\n",
    "        model = base_model(n_inputs, n_outputs)\n",
    "        \n",
    "        # fit model\n",
    "        model.fit(X_train, y_train, verbose=0, epochs=100)\n",
    "        \n",
    "        # evaluate model on test set\n",
    "        mae = model.evaluate(X_test, y_test, verbose=0)\n",
    "       \n",
    "        # store result\n",
    "        print('>%.3f' % mae)\n",
    "        results.append(mae)\n",
    "        \n",
    "    return results"
   ]
  },
  {
   "cell_type": "code",
   "execution_count": 6,
   "id": "361323b6",
   "metadata": {},
   "outputs": [],
   "source": [
    "def base_model(n_inputs, n_outputs):\n",
    "    model = Sequential()\n",
    "    model.add(Dense(10, input_dim=n_inputs, kernel_initializer='he_uniform', activation='relu'))\n",
    "    model.add(Dense(n_outputs, activation='linear' ))\n",
    "    model.compile(loss='mae', optimizer='adam')\n",
    "    return model"
   ]
  },
  {
   "cell_type": "code",
   "execution_count": 7,
   "id": "0f31f8eb",
   "metadata": {},
   "outputs": [
    {
     "name": "stdout",
     "output_type": "stream",
     "text": [
      "WARNING:tensorflow:From C:\\Users\\ramme\\Anaconda3\\lib\\site-packages\\tensorflow\\python\\ops\\init_ops.py:1251: calling VarianceScaling.__init__ (from tensorflow.python.ops.init_ops) with dtype is deprecated and will be removed in a future version.\n",
      "Instructions for updating:\n",
      "Call initializer instance with the dtype argument instead of passing it to the constructor\n",
      ">0.865\n",
      ">0.965\n",
      ">0.815\n",
      ">0.941\n",
      ">0.881\n",
      ">0.929\n",
      ">0.919\n",
      ">0.965\n",
      ">0.973\n",
      ">0.917\n",
      ">0.994\n",
      ">0.945\n",
      ">1.022\n",
      ">0.969\n",
      ">0.968\n",
      ">0.860\n",
      ">0.931\n",
      ">1.055\n",
      ">0.940\n",
      ">1.032\n",
      ">0.906\n",
      ">1.004\n",
      ">0.959\n",
      ">1.143\n",
      ">0.953\n",
      ">0.895\n",
      ">0.875\n",
      ">0.889\n",
      ">0.964\n",
      ">0.932\n",
      "MAE: 0.947 (0.064)\n"
     ]
    }
   ],
   "source": [
    "# evaluate model\n",
    "results = evaluate_model(X, y)\n",
    "# summarize performance\n",
    "print('MAE: %.3f (%.3f)' % (mean(results), std(results)))"
   ]
  },
  {
   "cell_type": "markdown",
   "id": "6bde17f4",
   "metadata": {},
   "source": [
    "## Training the model on all the data as the final model for this baseline\n",
    "\n",
    "This latest model can be used to test additional data if needed - or could be used by a audiologist"
   ]
  },
  {
   "cell_type": "code",
   "execution_count": 8,
   "id": "5001f0c3",
   "metadata": {},
   "outputs": [],
   "source": [
    "n_inputs, n_outputs = X.shape[1], y.shape[1]\n",
    "\n",
    "model = base_model(n_inputs, n_outputs)\n",
    "\n",
    "# fit the model on all data\n",
    "model.fit(X, y, verbose=0, epochs=100);"
   ]
  },
  {
   "cell_type": "code",
   "execution_count": 9,
   "id": "295b3350",
   "metadata": {},
   "outputs": [
    {
     "name": "stdout",
     "output_type": "stream",
     "text": [
      "Predicted: [ 1.36  5.47  5.    9.91 24.21 24.78 25.24]\n",
      "Real value: [ 2.    6.13  4.88  9.82 22.13 21.7  20.95]\n",
      "Diff: [-0.64 -0.66  0.12  0.09  2.08  3.08  4.29]\n",
      "\n",
      "\n",
      "Predicted: [ 2.08  4.74  5.38  7.87 15.31 15.42 15.65]\n",
      "Real value: [ 2.    6.28  5.03  7.47 14.95 15.52 16.08]\n",
      "Diff: [ 0.08 -1.54  0.35  0.4   0.36 -0.1  -0.43]\n",
      "\n",
      "\n",
      "Predicted: [1.79 1.78 0.86 1.35 3.58 3.62 3.64]\n",
      "Real value: [2.   2.   2.   2.   3.   2.82 2.64]\n",
      "Diff: [-0.21 -0.22 -1.14 -0.65  0.58  0.8   1.  ]\n",
      "\n",
      "\n",
      "Predicted: [1.44 1.32 3.39 3.83 5.69 5.8  5.84]\n",
      "Real value: [2.   2.   3.51 4.15 5.51 5.73 6.09]\n",
      "Diff: [-0.56 -0.68 -0.12 -0.32  0.18  0.07 -0.25]\n",
      "\n",
      "\n",
      "Predicted: [1.92 2.45 3.05 3.8  6.35 6.3  6.22]\n",
      "Real value: [2.   2.   3.33 4.28 7.38 7.32 7.18]\n",
      "Diff: [-0.08  0.45 -0.28 -0.48 -1.03 -1.02 -0.96]\n",
      "\n",
      "\n",
      "Predicted: [1.22 1.04 2.23 3.68 8.54 8.69 8.71]\n",
      "Real value: [2.   2.   2.   3.77 9.37 9.52 9.65]\n",
      "Diff: [-0.78 -0.96  0.23 -0.09 -0.83 -0.83 -0.94]\n",
      "\n",
      "\n",
      "Predicted: [2.59 3.67 2.34 3.46 6.57 6.26 6.01]\n",
      "Real value: [2.59 3.87 2.   2.99 6.02 6.01 5.98]\n",
      "Diff: [-0.   -0.2   0.34  0.47  0.55  0.25  0.03]\n",
      "\n",
      "\n",
      "Predicted: [ 1.73  3.68  5.2   8.1  16.2  16.13 16.04]\n",
      "Real value: [ 2.    3.67  4.97  7.95 15.9  16.3  16.66]\n",
      "Diff: [-0.27  0.01  0.23  0.15  0.3  -0.17 -0.62]\n",
      "\n",
      "\n",
      "Predicted: [1.76 3.36 2.62 4.04 8.52 9.04 9.55]\n",
      "Real value: [ 2.    4.36  2.87  4.3   8.76  9.67 10.72]\n",
      "Diff: [-0.24 -1.   -0.25 -0.26 -0.24 -0.63 -1.17]\n",
      "\n",
      "\n",
      "Predicted: [ 2.7   7.68  6.63  7.77 11.51 12.56 13.64]\n",
      "Real value: [ 2.93  8.28  4.98  6.51 12.09 12.51 13.02]\n",
      "Diff: [-0.23 -0.6   1.65  1.26 -0.58  0.05  0.62]\n",
      "\n",
      "\n"
     ]
    }
   ],
   "source": [
    "# checks what it looks like\n",
    "i=0\n",
    "while i < len(x_test):\n",
    "    \n",
    "    row = x_test[i]\n",
    "    yhat = model.predict(asarray([row]))\n",
    "    print('Predicted:', np.round_(yhat[0], decimals = 2))\n",
    "    print('Real value:', np.round_(y_test[i], decimals = 2))\n",
    "    print('Diff:', np.round_(np.round_(yhat[0], decimals = 2) - np.round_(y_test[i], decimals = 2), decimals=2))\n",
    "    \n",
    "    print('\\n')\n",
    "    i+=1"
   ]
  }
 ],
 "metadata": {
  "kernelspec": {
   "display_name": "Python 3 (ipykernel)",
   "language": "python",
   "name": "python3"
  },
  "language_info": {
   "codemirror_mode": {
    "name": "ipython",
    "version": 3
   },
   "file_extension": ".py",
   "mimetype": "text/x-python",
   "name": "python",
   "nbconvert_exporter": "python",
   "pygments_lexer": "ipython3",
   "version": "3.7.3"
  }
 },
 "nbformat": 4,
 "nbformat_minor": 5
}
