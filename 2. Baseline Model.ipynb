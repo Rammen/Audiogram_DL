{
 "cells": [
  {
   "cell_type": "markdown",
   "id": "2f285efb",
   "metadata": {},
   "source": [
    "# Creating a baseline model"
   ]
  },
  {
   "cell_type": "code",
   "execution_count": 2,
   "id": "1c3f365b",
   "metadata": {},
   "outputs": [
    {
     "name": "stdout",
     "output_type": "stream",
     "text": [
      "Tensorflow Version: 1.14.0\n",
      "Numpy Version: 1.20.3\n",
      "Pandas Version 1.3.2\n"
     ]
    }
   ],
   "source": [
    "import pandas as pd\n",
    "import tensorflow as tf\n",
    "import numpy as np\n",
    "\n",
    "from tensorflow.keras.models import Sequential\n",
    "from tensorflow.keras.layers import Dense\n",
    "\n",
    "from numpy import mean, std, asarray\n",
    "from sklearn.model_selection import RepeatedKFold\n",
    "\n",
    "print('Tensorflow Version:',tf.__version__)\n",
    "print('Numpy Version:',np.__version__)\n",
    "print('Pandas Version', pd.__version__)"
   ]
  },
  {
   "cell_type": "markdown",
   "id": "2175f7dc",
   "metadata": {},
   "source": [
    "# Setting the data\n",
    "\n",
    "For this baseline, I used only the results from the audiogram test to define the settings of the devices. "
   ]
  },
  {
   "cell_type": "code",
   "execution_count": 3,
   "id": "957cb616",
   "metadata": {},
   "outputs": [
    {
     "name": "stdout",
     "output_type": "stream",
     "text": [
      "(2997, 7) (2997, 7)\n"
     ]
    }
   ],
   "source": [
    "inputs = pd.read_csv('input.csv')\n",
    "X = inputs[['audr_500', 'audr_1k', 'audr_2k', 'audr_3k', 'audr_4k', 'audr_6k', 'audr_8k']].values[:-2]\n",
    "x_test =  inputs[['audr_500', 'audr_1k', 'audr_2k', 'audr_3k', 'audr_4k', 'audr_6k', 'audr_8k']].values[-2:]\n",
    "\n",
    "outputs = pd.read_csv('output.csv').iloc[:2999]\n",
    "y = outputs.values[:-2]\n",
    "y_test = outputs.values[-2:]\n",
    "\n",
    "# Checking that shapes make sense\n",
    "print(X.shape, y.shape)"
   ]
  },
  {
   "cell_type": "code",
   "execution_count": 4,
   "id": "ab383864",
   "metadata": {},
   "outputs": [],
   "source": [
    "def evaluate_model(X, y):\n",
    "    results = list()\n",
    "    \n",
    "    n_inputs, n_outputs = X.shape[1], y.shape[1]\n",
    "    \n",
    "    # define evaluation procedure\n",
    "    cv = RepeatedKFold(n_splits=10, n_repeats=3, random_state=1)\n",
    "    \n",
    "    # enumerate folds\n",
    "    for train_ix, test_ix in cv.split(X):\n",
    "        \n",
    "        # prepare data\n",
    "        X_train, X_test = X[train_ix], X[test_ix]\n",
    "        y_train, y_test = y[train_ix], y[test_ix]\n",
    "        \n",
    "        # define model\n",
    "        model = baseline_model(n_inputs, n_outputs)\n",
    "        \n",
    "        # fit model\n",
    "        model.fit(X_train, y_train, verbose=0, epochs=100)\n",
    "        \n",
    "        # evaluate model on test set\n",
    "        mae = model.evaluate(X_test, y_test, verbose=0)\n",
    "        \n",
    "        # store result\n",
    "        print('>%.3f' % mae)\n",
    "        results.append(mae)\n",
    "        \n",
    "    return results"
   ]
  },
  {
   "cell_type": "code",
   "execution_count": 8,
   "id": "582369fc",
   "metadata": {},
   "outputs": [],
   "source": [
    "\"\"\" \n",
    "Baseline model with inputs layer, 1 hidden layer with 10 nodes and 1 output layer\n",
    "\"\"\"\n",
    "def baseline_model(n_inputs, n_outputs):\n",
    "    model = Sequential()\n",
    "    model.add(Dense(10, input_dim=n_inputs, kernel_initializer='he_uniform', activation='relu'))\n",
    "    model.add(Dense(n_outputs, activation='linear'))\n",
    "    model.compile(loss='mae', optimizer='adam')\n",
    "    return model"
   ]
  },
  {
   "cell_type": "code",
   "execution_count": 9,
   "id": "33e675e5",
   "metadata": {},
   "outputs": [
    {
     "name": "stdout",
     "output_type": "stream",
     "text": [
      "WARNING:tensorflow:From C:\\Users\\ramme\\Anaconda3\\lib\\site-packages\\tensorflow\\python\\ops\\init_ops.py:1251: calling VarianceScaling.__init__ (from tensorflow.python.ops.init_ops) with dtype is deprecated and will be removed in a future version.\n",
      "Instructions for updating:\n",
      "Call initializer instance with the dtype argument instead of passing it to the constructor\n",
      ">0.983\n",
      ">1.014\n",
      ">0.986\n",
      ">0.971\n",
      ">0.916\n",
      ">1.099\n",
      ">1.007\n",
      ">1.018\n",
      ">1.004\n",
      ">0.984\n",
      ">0.835\n",
      ">0.904\n",
      ">0.950\n",
      ">0.990\n",
      ">1.018\n",
      ">0.967\n",
      ">1.019\n",
      ">0.919\n",
      ">1.042\n",
      ">1.070\n",
      ">1.018\n",
      ">1.018\n",
      ">1.015\n",
      ">1.019\n",
      ">0.931\n",
      ">0.880\n",
      ">0.900\n",
      ">0.963\n",
      ">0.967\n",
      ">1.041\n",
      "MAE: 0.982 (0.057)\n"
     ]
    }
   ],
   "source": [
    "# evaluate model\n",
    "results = evaluate_model(X, y)\n",
    "# summarize performance\n",
    "print('MAE: %.3f (%.3f)' % (mean(results), std(results)))"
   ]
  },
  {
   "cell_type": "markdown",
   "id": "ed0eb927",
   "metadata": {},
   "source": [
    "This baseline model obtained: an average MAE of 0.975 (0.072)"
   ]
  },
  {
   "cell_type": "markdown",
   "id": "38c3f043",
   "metadata": {},
   "source": [
    "## Training the model on all the data as the final model for this baseline\n",
    "\n",
    "This latest model can be used to test additional data if needed - or could be used by a audiologist"
   ]
  },
  {
   "cell_type": "code",
   "execution_count": 11,
   "id": "1c7b39e9",
   "metadata": {},
   "outputs": [
    {
     "name": "stdout",
     "output_type": "stream",
     "text": [
      "Predicted: [2.23 4.04 2.36 4.09 9.09 9.54 9.75]\n",
      "Real value: [ 2.    4.36  2.87  4.3   8.76  9.67 10.72]\n",
      "Diff: [ 0.23 -0.32 -0.51 -0.21  0.33 -0.13 -0.97]\n",
      "\n",
      "\n",
      "Predicted: [ 3.45  8.16  5.9   7.31 12.69 13.62 14.14]\n",
      "Real value: [ 2.93  8.28  4.98  6.51 12.09 12.51 13.02]\n",
      "Diff: [ 0.52 -0.12  0.92  0.8   0.6   1.11  1.12]\n",
      "\n",
      "\n"
     ]
    }
   ],
   "source": [
    "# Training the model on all the data \n",
    "n_inputs, n_outputs = X.shape[1], y.shape[1]\n",
    "\n",
    "model = baseline_model(n_inputs, n_outputs)\n",
    "\n",
    "# fit the model on all data\n",
    "model.fit(X, y, verbose=0, epochs=100);\n",
    "\n",
    "# checks what it looks like\n",
    "i=0\n",
    "while i < len(x_test):\n",
    "    \n",
    "    row = x_test[i]\n",
    "    yhat = model.predict(asarray([row]))\n",
    "    print('Predicted:', np.round_(yhat[0], decimals = 2))\n",
    "    print('Real value:', np.round_(y_test[i], decimals = 2))\n",
    "    print('Diff:', np.round_(np.round_(yhat[0], decimals = 2) - np.round_(y_test[i], decimals = 2), decimals=2))\n",
    "    \n",
    "    print('\\n')\n",
    "    i+=1"
   ]
  }
 ],
 "metadata": {
  "kernelspec": {
   "display_name": "Python 3 (ipykernel)",
   "language": "python",
   "name": "python3"
  },
  "language_info": {
   "codemirror_mode": {
    "name": "ipython",
    "version": 3
   },
   "file_extension": ".py",
   "mimetype": "text/x-python",
   "name": "python",
   "nbconvert_exporter": "python",
   "pygments_lexer": "ipython3",
   "version": "3.7.3"
  }
 },
 "nbformat": 4,
 "nbformat_minor": 5
}
