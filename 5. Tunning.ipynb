{
 "cells": [
  {
   "cell_type": "markdown",
   "id": "0ead27f4",
   "metadata": {},
   "source": [
    "# Tunning some hyperparameter to improve MAE"
   ]
  },
  {
   "cell_type": "code",
   "execution_count": 3,
   "id": "8741fccf",
   "metadata": {},
   "outputs": [
    {
     "name": "stdout",
     "output_type": "stream",
     "text": [
      "1.14.0\n"
     ]
    }
   ],
   "source": [
    "import pandas as pd\n",
    "import tensorflow as tf\n",
    "import numpy as np\n",
    "\n",
    "from tensorflow.keras.models import Sequential\n",
    "from tensorflow.keras.layers import Dense, Dropout\n",
    "from tensorflow.keras import initializers\n",
    "\n",
    "from numpy import mean, std, asarray\n",
    "\n",
    "from sklearn.model_selection import RepeatedKFold\n",
    "from sklearn import preprocessing\n",
    "from sklearn.preprocessing import OneHotEncoder\n",
    "\n",
    "import random\n",
    "\n",
    "print(tf.__version__)"
   ]
  },
  {
   "cell_type": "markdown",
   "id": "7c8c9ca5",
   "metadata": {},
   "source": [
    "# Setting the data\n",
    "\n",
    "Same data as previous iteration"
   ]
  },
  {
   "cell_type": "code",
   "execution_count": 4,
   "id": "7bb962d1",
   "metadata": {},
   "outputs": [],
   "source": [
    "inputs = pd.read_csv('input.csv')\n",
    "\n",
    "gender = pd.get_dummies(inputs.gender, prefix='gender')\n",
    "inputs = inputs.join(gender)"
   ]
  },
  {
   "cell_type": "code",
   "execution_count": 5,
   "id": "9b54ad38",
   "metadata": {},
   "outputs": [
    {
     "name": "stdout",
     "output_type": "stream",
     "text": [
      "(2989, 12) (2989, 7)\n"
     ]
    }
   ],
   "source": [
    "X = inputs[['age','comp_speed', 'experience', 'gender_1', 'gender_2','audr_500', 'audr_1k', 'audr_2k', 'audr_3k', 'audr_4k', 'audr_6k', 'audr_8k']].values[:-10]\n",
    "x_test =  inputs[['age','comp_speed', 'experience','gender_1', 'gender_2' ,'audr_500', 'audr_1k', 'audr_2k', 'audr_3k', 'audr_4k', 'audr_6k', 'audr_8k']].values[-10:]\n",
    "\n",
    "outputs = pd.read_csv('output.csv').iloc[:2999]\n",
    "y = outputs.values[:-10]\n",
    "y_test = outputs.values[-10:]\n",
    "\n",
    "print(X.shape, y.shape)"
   ]
  },
  {
   "cell_type": "code",
   "execution_count": 6,
   "id": "9ae13916",
   "metadata": {},
   "outputs": [],
   "source": [
    "def evaluate_model(X, y, hyp_opt, layers_opt, neur_opt):\n",
    "    results = list()\n",
    "    n_inputs, n_outputs = X.shape[1], y.shape[1]\n",
    "    # define evaluation procedure\n",
    "    cv = RepeatedKFold(n_splits=10, n_repeats=1, random_state=1)\n",
    "    # enumerate folds\n",
    "    for train_ix, test_ix in cv.split(X):\n",
    "        # prepare data\n",
    "        X_train, X_test = X[train_ix], X[test_ix]\n",
    "        y_train, y_test = y[train_ix], y[test_ix]\n",
    "        # define model\n",
    "        model = try_model(n_inputs, n_outputs, hyp_opt, layers_opt, neur_opt)\n",
    "        # fit model\n",
    "        model.fit(X_train, y_train, verbose=0, epochs=100)\n",
    "        # evaluate model on test set\n",
    "        mae = model.evaluate(X_test, y_test, verbose=0)\n",
    "        # store result\n",
    "#         print('>%.3f' % mae)\n",
    "        results.append(mae)\n",
    "    return results"
   ]
  },
  {
   "cell_type": "markdown",
   "id": "c27f9f0e",
   "metadata": {},
   "source": [
    "Having a hard time installing the Keras library to add a random search (and chose to spend more time working on the model), I ended up adpting my previous function into a flexible model to try a few combination. "
   ]
  },
  {
   "cell_type": "code",
   "execution_count": 7,
   "id": "77a0e5cc",
   "metadata": {},
   "outputs": [],
   "source": [
    "def try_model(n_inputs, n_outputs, hyp_opt, layers_opt, neur_opt):\n",
    "    model = Sequential()\n",
    "    \n",
    "    # Add input layer and 1st hidden layer\n",
    "    model.add(Dense(neur_opt[0], input_dim=n_inputs, kernel_initializer='he_uniform', activation='relu'))\n",
    "    \n",
    "    # Add additional hidden layers if necessary\n",
    "    for layer in list(range(1,layers_opt)):\n",
    "        model.add(Dense(neur_opt[layer], activation='relu'))\n",
    "    \n",
    "    #Add output layer\n",
    "    model.add(Dense(n_outputs, activation='linear'))\n",
    "    model.compile(loss='mae', optimizer=hyp_opt)\n",
    "\n",
    "    return model"
   ]
  },
  {
   "cell_type": "code",
   "execution_count": 8,
   "id": "3c98b916",
   "metadata": {},
   "outputs": [
    {
     "name": "stdout",
     "output_type": "stream",
     "text": [
      "Iteration 0: Optimizer=adam, 2 hidden_layers with [64, 12] neurons\n",
      "WARNING:tensorflow:From C:\\Users\\ramme\\Anaconda3\\lib\\site-packages\\tensorflow\\python\\ops\\init_ops.py:1251: calling VarianceScaling.__init__ (from tensorflow.python.ops.init_ops) with dtype is deprecated and will be removed in a future version.\n",
      "Instructions for updating:\n",
      "Call initializer instance with the dtype argument instead of passing it to the constructor\n",
      "    ---> MAE: 0.783 (0.061)\n",
      "Iteration 1: Optimizer=adam, 3 hidden_layers with [48, 48, 12] neurons\n",
      "    ---> MAE: 0.736 (0.050)\n",
      "Iteration 2: Optimizer=adam, 2 hidden_layers with [48, 6] neurons\n",
      "    ---> MAE: 1.030 (0.206)\n",
      "Iteration 3: Optimizer=sgd, 3 hidden_layers with [64, 48, 64] neurons\n",
      "    ---> MAE: 2.353 (1.020)\n",
      "Iteration 4: Optimizer=sgd, 2 hidden_layers with [48, 64] neurons\n",
      "    ---> MAE: 1.964 (0.496)\n",
      "Iteration 5: Optimizer=sgd, 1 hidden_layers with [64] neurons\n",
      "    ---> MAE: 2.863 (1.394)\n",
      "Iteration 6: Optimizer=sgd, 1 hidden_layers with [48] neurons\n",
      "    ---> MAE: 3.008 (1.701)\n",
      "Iteration 7: Optimizer=sgd, 3 hidden_layers with [6, 48, 6] neurons\n",
      "    ---> MAE: 3.330 (1.703)\n",
      "Iteration 8: Optimizer=sgd, 1 hidden_layers with [48] neurons\n",
      "    ---> MAE: 3.264 (2.025)\n",
      "Iteration 9: Optimizer=sgd, 1 hidden_layers with [12] neurons\n",
      "    ---> MAE: 2.579 (1.457)\n"
     ]
    },
    {
     "data": {
      "text/plain": [
       "[[0, 'adam', 2, [64, 12], 0.7833956234978386, 0.060819836351644445],\n",
       " [1, 'adam', 3, [48, 48, 12], 0.7362921318924442, 0.050443015390160884],\n",
       " [2, 'adam', 2, [48, 6], 1.0299700413530828, 0.2059309614000776],\n",
       " [3, 'sgd', 3, [64, 48, 64], 2.3526620540673, 1.0199505344616553],\n",
       " [4, 'sgd', 2, [48, 64], 1.9640787284353258, 0.49562318605632283],\n",
       " [5, 'sgd', 1, [64], 2.8629847139378986, 1.3943336455625117],\n",
       " [6, 'sgd', 1, [48], 3.0076976343487325, 1.7013915927109577],\n",
       " [7, 'sgd', 3, [6, 48, 6], 3.3296448687901448, 1.7025786258219109],\n",
       " [8, 'sgd', 1, [48], 3.264220010979815, 2.025365446925021],\n",
       " [9, 'sgd', 1, [12], 2.578516405261472, 1.45696049557151]]"
      ]
     },
     "execution_count": 8,
     "metadata": {},
     "output_type": "execute_result"
    }
   ],
   "source": [
    "best_hyperparameters = []\n",
    "combinations_to_try = 10\n",
    "\n",
    "# Hyperparameters to randomly select from\n",
    "optimizer = ['adam', 'sgd']\n",
    "neurons = [6, 12, 24, 48, 64]\n",
    "hidden_layers = [1,2,3]\n",
    "\n",
    "# Try a number of combinations and save the results into a list\n",
    "for iteration in range(combinations_to_try):\n",
    "    hyp_opt = random.choice(optimizer)\n",
    "    layers_opt = random.choice(hidden_layers)\n",
    "    neur_opt = random.choices(neurons, k=layers_opt)\n",
    "    \n",
    "    print(f\"Iteration {iteration}: Optimizer={hyp_opt}, {layers_opt} hidden_layers with {neur_opt} neurons\")\n",
    "    \n",
    "    results = evaluate_model(X, y, hyp_opt, layers_opt, neur_opt)  \n",
    "#     summarize performance\n",
    "    print('    ---> MAE: %.3f (%.3f)' % (mean(results), std(results)))\n",
    "    \n",
    "    iteration_result = [iteration, hyp_opt, layers_opt, neur_opt, mean(results), std(results)]\n",
    "    best_hyperparameters.append(iteration_result)\n",
    "    \n",
    "best_hyperparameters"
   ]
  },
  {
   "cell_type": "code",
   "execution_count": 14,
   "id": "d450f2f0",
   "metadata": {},
   "outputs": [
    {
     "data": {
      "text/html": [
       "<div>\n",
       "<style scoped>\n",
       "    .dataframe tbody tr th:only-of-type {\n",
       "        vertical-align: middle;\n",
       "    }\n",
       "\n",
       "    .dataframe tbody tr th {\n",
       "        vertical-align: top;\n",
       "    }\n",
       "\n",
       "    .dataframe thead th {\n",
       "        text-align: right;\n",
       "    }\n",
       "</style>\n",
       "<table border=\"1\" class=\"dataframe\">\n",
       "  <thead>\n",
       "    <tr style=\"text-align: right;\">\n",
       "      <th></th>\n",
       "      <th>id</th>\n",
       "      <th>optimizer</th>\n",
       "      <th>hidden_layers</th>\n",
       "      <th>neurons</th>\n",
       "      <th>mean_MAE</th>\n",
       "      <th>std_MAE</th>\n",
       "    </tr>\n",
       "  </thead>\n",
       "  <tbody>\n",
       "    <tr>\n",
       "      <th>1</th>\n",
       "      <td>1</td>\n",
       "      <td>adam</td>\n",
       "      <td>3</td>\n",
       "      <td>[48, 48, 12]</td>\n",
       "      <td>0.736292</td>\n",
       "      <td>0.050443</td>\n",
       "    </tr>\n",
       "    <tr>\n",
       "      <th>0</th>\n",
       "      <td>0</td>\n",
       "      <td>adam</td>\n",
       "      <td>2</td>\n",
       "      <td>[64, 12]</td>\n",
       "      <td>0.783396</td>\n",
       "      <td>0.060820</td>\n",
       "    </tr>\n",
       "    <tr>\n",
       "      <th>2</th>\n",
       "      <td>2</td>\n",
       "      <td>adam</td>\n",
       "      <td>2</td>\n",
       "      <td>[48, 6]</td>\n",
       "      <td>1.029970</td>\n",
       "      <td>0.205931</td>\n",
       "    </tr>\n",
       "    <tr>\n",
       "      <th>4</th>\n",
       "      <td>4</td>\n",
       "      <td>sgd</td>\n",
       "      <td>2</td>\n",
       "      <td>[48, 64]</td>\n",
       "      <td>1.964079</td>\n",
       "      <td>0.495623</td>\n",
       "    </tr>\n",
       "    <tr>\n",
       "      <th>3</th>\n",
       "      <td>3</td>\n",
       "      <td>sgd</td>\n",
       "      <td>3</td>\n",
       "      <td>[64, 48, 64]</td>\n",
       "      <td>2.352662</td>\n",
       "      <td>1.019951</td>\n",
       "    </tr>\n",
       "    <tr>\n",
       "      <th>9</th>\n",
       "      <td>9</td>\n",
       "      <td>sgd</td>\n",
       "      <td>1</td>\n",
       "      <td>[12]</td>\n",
       "      <td>2.578516</td>\n",
       "      <td>1.456960</td>\n",
       "    </tr>\n",
       "    <tr>\n",
       "      <th>5</th>\n",
       "      <td>5</td>\n",
       "      <td>sgd</td>\n",
       "      <td>1</td>\n",
       "      <td>[64]</td>\n",
       "      <td>2.862985</td>\n",
       "      <td>1.394334</td>\n",
       "    </tr>\n",
       "    <tr>\n",
       "      <th>6</th>\n",
       "      <td>6</td>\n",
       "      <td>sgd</td>\n",
       "      <td>1</td>\n",
       "      <td>[48]</td>\n",
       "      <td>3.007698</td>\n",
       "      <td>1.701392</td>\n",
       "    </tr>\n",
       "    <tr>\n",
       "      <th>8</th>\n",
       "      <td>8</td>\n",
       "      <td>sgd</td>\n",
       "      <td>1</td>\n",
       "      <td>[48]</td>\n",
       "      <td>3.264220</td>\n",
       "      <td>2.025365</td>\n",
       "    </tr>\n",
       "    <tr>\n",
       "      <th>7</th>\n",
       "      <td>7</td>\n",
       "      <td>sgd</td>\n",
       "      <td>3</td>\n",
       "      <td>[6, 48, 6]</td>\n",
       "      <td>3.329645</td>\n",
       "      <td>1.702579</td>\n",
       "    </tr>\n",
       "  </tbody>\n",
       "</table>\n",
       "</div>"
      ],
      "text/plain": [
       "   id optimizer  hidden_layers       neurons  mean_MAE   std_MAE\n",
       "1   1      adam              3  [48, 48, 12]  0.736292  0.050443\n",
       "0   0      adam              2      [64, 12]  0.783396  0.060820\n",
       "2   2      adam              2       [48, 6]  1.029970  0.205931\n",
       "4   4       sgd              2      [48, 64]  1.964079  0.495623\n",
       "3   3       sgd              3  [64, 48, 64]  2.352662  1.019951\n",
       "9   9       sgd              1          [12]  2.578516  1.456960\n",
       "5   5       sgd              1          [64]  2.862985  1.394334\n",
       "6   6       sgd              1          [48]  3.007698  1.701392\n",
       "8   8       sgd              1          [48]  3.264220  2.025365\n",
       "7   7       sgd              3    [6, 48, 6]  3.329645  1.702579"
      ]
     },
     "execution_count": 14,
     "metadata": {},
     "output_type": "execute_result"
    }
   ],
   "source": [
    "# Transform the list in a pandas dataframe to have a better vizualisation. \n",
    "results_table = pd.DataFrame.from_records(best_hyperparameters, columns=[\"id\", \"optimizer\", \"hidden_layers\", \"neurons\", \"mean_MAE\", 'std_MAE'])\n",
    "results_table.sort_values('mean_MAE')\n",
    "\n"
   ]
  },
  {
   "cell_type": "code",
   "execution_count": 10,
   "id": "0fb79d05",
   "metadata": {},
   "outputs": [
    {
     "data": {
      "text/plain": [
       "['adam', 3, [48, 48, 12]]"
      ]
     },
     "execution_count": 10,
     "metadata": {},
     "output_type": "execute_result"
    }
   ],
   "source": [
    "best = results_table.loc[results_table['mean_MAE'].idxmin()][[\"optimizer\", \"hidden_layers\", \"neurons\"]]\n",
    "list(best)"
   ]
  },
  {
   "cell_type": "markdown",
   "id": "c0d9080e",
   "metadata": {},
   "source": [
    "# Select and train the best model on all the data "
   ]
  },
  {
   "cell_type": "code",
   "execution_count": 11,
   "id": "dd46d412",
   "metadata": {},
   "outputs": [],
   "source": [
    "n_inputs, n_outputs = X.shape[1], y.shape[1]\n",
    "\n",
    "model = try_model(n_inputs, n_outputs, *list(best))\n",
    "\n",
    "# fit the model on all data\n",
    "model.fit(X, y, verbose=0, epochs=100);"
   ]
  },
  {
   "cell_type": "code",
   "execution_count": 12,
   "id": "cd1ac077",
   "metadata": {},
   "outputs": [
    {
     "name": "stdout",
     "output_type": "stream",
     "text": [
      "Predicted: [ 2.38  5.08  4.67  9.46 22.28 22.3  22.45]\n",
      "Real value: [ 2.    6.13  4.88  9.82 22.13 21.7  20.95]\n",
      "Diff: [ 0.38 -1.05 -0.21 -0.36  0.15  0.6   1.5 ]\n",
      "Average MAE: 0.14\n",
      "STD MAE: 0.75\n",
      "\n",
      "\n",
      "Predicted: [ 2.18  5.65  4.76  7.7  15.56 15.84 16.18]\n",
      "Real value: [ 2.    6.28  5.03  7.47 14.95 15.52 16.08]\n",
      "Diff: [ 0.18 -0.63 -0.27  0.23  0.61  0.32  0.1 ]\n",
      "Average MAE: 0.08\n",
      "STD MAE: 0.38\n",
      "\n",
      "\n",
      "Predicted: [1.88 2.03 1.46 1.8  2.96 2.91 2.87]\n",
      "Real value: [2.   2.   2.   2.   3.   2.82 2.64]\n",
      "Diff: [-0.12  0.03 -0.54 -0.2  -0.04  0.09  0.23]\n",
      "Average MAE: -0.08\n",
      "STD MAE: 0.23\n",
      "\n",
      "\n",
      "Predicted: [1.92 1.8  3.66 4.22 5.8  5.89 6.06]\n",
      "Real value: [2.   2.   3.51 4.15 5.51 5.73 6.09]\n",
      "Diff: [-0.08 -0.2   0.15  0.07  0.29  0.16 -0.03]\n",
      "Average MAE: 0.05\n",
      "STD MAE: 0.15\n",
      "\n",
      "\n",
      "Predicted: [2.   2.2  3.33 4.34 7.23 7.17 7.19]\n",
      "Real value: [2.   2.   3.33 4.28 7.38 7.32 7.18]\n",
      "Diff: [ 0.    0.2  -0.    0.06 -0.15 -0.15  0.01]\n",
      "Average MAE: -0.0\n",
      "STD MAE: 0.11\n",
      "\n",
      "\n",
      "Predicted: [1.79 1.73 1.74 3.89 9.6  9.55 9.56]\n",
      "Real value: [2.   2.   2.   3.77 9.37 9.52 9.65]\n",
      "Diff: [-0.21 -0.27 -0.26  0.12  0.23  0.03 -0.09]\n",
      "Average MAE: -0.06\n",
      "STD MAE: 0.18\n",
      "\n",
      "\n",
      "Predicted: [2.46 3.88 1.71 2.86 6.4  6.39 6.41]\n",
      "Real value: [2.59 3.87 2.   2.99 6.02 6.01 5.98]\n",
      "Diff: [-0.13  0.01 -0.29 -0.13  0.38  0.38  0.43]\n",
      "Average MAE: 0.09\n",
      "STD MAE: 0.28\n",
      "\n",
      "\n",
      "Predicted: [ 1.82  2.82  4.47  7.94 17.   17.01 17.13]\n",
      "Real value: [ 2.    3.67  4.97  7.95 15.9  16.3  16.66]\n",
      "Diff: [-0.18 -0.85 -0.5  -0.01  1.1   0.71  0.47]\n",
      "Average MAE: 0.11\n",
      "STD MAE: 0.64\n",
      "\n",
      "\n",
      "Predicted: [ 1.94  3.99  2.91  4.64  9.09  9.57 10.08]\n",
      "Real value: [ 2.    4.36  2.87  4.3   8.76  9.67 10.72]\n",
      "Diff: [-0.06 -0.37  0.04  0.34  0.33 -0.1  -0.64]\n",
      "Average MAE: -0.07\n",
      "STD MAE: 0.33\n",
      "\n",
      "\n",
      "Predicted: [ 2.94  7.97  6.03  7.61 12.19 12.78 13.46]\n",
      "Real value: [ 2.93  8.28  4.98  6.51 12.09 12.51 13.02]\n",
      "Diff: [ 0.01 -0.31  1.05  1.1   0.1   0.27  0.44]\n",
      "Average MAE: 0.38\n",
      "STD MAE: 0.49\n",
      "\n",
      "\n"
     ]
    }
   ],
   "source": [
    "# checks what it looks like\n",
    "i=0\n",
    "while i < len(x_test):\n",
    "    \n",
    "    row = x_test[i]\n",
    "    yhat = model.predict(asarray([row]))\n",
    "    print('Predicted:', np.round_(yhat[0], decimals = 2))\n",
    "    print('Real value:', np.round_(y_test[i], decimals = 2))\n",
    "    print('Diff:', np.round_(np.round_(yhat[0], decimals = 2) - np.round_(y_test[i], decimals = 2), decimals=2))\n",
    "    print('Average MAE:', round(mean(np.round_(yhat[0], decimals = 2) - np.round_(y_test[i], decimals = 2)),2))\n",
    "    print('STD MAE:', round(std(np.round_(yhat[0], decimals = 2) - np.round_(y_test[i], decimals = 2)),2))\n",
    "\n",
    "    \n",
    "    print('\\n')\n",
    "    i+=1"
   ]
  }
 ],
 "metadata": {
  "kernelspec": {
   "display_name": "Python 3 (ipykernel)",
   "language": "python",
   "name": "python3"
  },
  "language_info": {
   "codemirror_mode": {
    "name": "ipython",
    "version": 3
   },
   "file_extension": ".py",
   "mimetype": "text/x-python",
   "name": "python",
   "nbconvert_exporter": "python",
   "pygments_lexer": "ipython3",
   "version": "3.7.3"
  }
 },
 "nbformat": 4,
 "nbformat_minor": 5
}
