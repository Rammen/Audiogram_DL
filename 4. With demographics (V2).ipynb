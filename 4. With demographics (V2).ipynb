{
 "cells": [
  {
   "cell_type": "markdown",
   "id": "7bd0e6cb",
   "metadata": {},
   "source": [
    "# Model Iteration - One Hot Encoder for Gender"
   ]
  },
  {
   "cell_type": "code",
   "execution_count": 1,
   "id": "943b9f75",
   "metadata": {},
   "outputs": [
    {
     "name": "stderr",
     "output_type": "stream",
     "text": [
      "C:\\Users\\ramme\\Anaconda3\\lib\\site-packages\\tensorflow\\python\\framework\\dtypes.py:516: FutureWarning: Passing (type, 1) or '1type' as a synonym of type is deprecated; in a future version of numpy, it will be understood as (type, (1,)) / '(1,)type'.\n",
      "  _np_qint8 = np.dtype([(\"qint8\", np.int8, 1)])\n",
      "C:\\Users\\ramme\\Anaconda3\\lib\\site-packages\\tensorflow\\python\\framework\\dtypes.py:517: FutureWarning: Passing (type, 1) or '1type' as a synonym of type is deprecated; in a future version of numpy, it will be understood as (type, (1,)) / '(1,)type'.\n",
      "  _np_quint8 = np.dtype([(\"quint8\", np.uint8, 1)])\n",
      "C:\\Users\\ramme\\Anaconda3\\lib\\site-packages\\tensorflow\\python\\framework\\dtypes.py:518: FutureWarning: Passing (type, 1) or '1type' as a synonym of type is deprecated; in a future version of numpy, it will be understood as (type, (1,)) / '(1,)type'.\n",
      "  _np_qint16 = np.dtype([(\"qint16\", np.int16, 1)])\n",
      "C:\\Users\\ramme\\Anaconda3\\lib\\site-packages\\tensorflow\\python\\framework\\dtypes.py:519: FutureWarning: Passing (type, 1) or '1type' as a synonym of type is deprecated; in a future version of numpy, it will be understood as (type, (1,)) / '(1,)type'.\n",
      "  _np_quint16 = np.dtype([(\"quint16\", np.uint16, 1)])\n",
      "C:\\Users\\ramme\\Anaconda3\\lib\\site-packages\\tensorflow\\python\\framework\\dtypes.py:520: FutureWarning: Passing (type, 1) or '1type' as a synonym of type is deprecated; in a future version of numpy, it will be understood as (type, (1,)) / '(1,)type'.\n",
      "  _np_qint32 = np.dtype([(\"qint32\", np.int32, 1)])\n",
      "C:\\Users\\ramme\\Anaconda3\\lib\\site-packages\\tensorflow\\python\\framework\\dtypes.py:525: FutureWarning: Passing (type, 1) or '1type' as a synonym of type is deprecated; in a future version of numpy, it will be understood as (type, (1,)) / '(1,)type'.\n",
      "  np_resource = np.dtype([(\"resource\", np.ubyte, 1)])\n"
     ]
    },
    {
     "name": "stdout",
     "output_type": "stream",
     "text": [
      "1.14.0\n"
     ]
    }
   ],
   "source": [
    "import pandas as pd\n",
    "import tensorflow as tf\n",
    "import numpy as np\n",
    "\n",
    "from tensorflow.keras.models import Sequential\n",
    "from tensorflow.keras.layers import Dense, Dropout\n",
    "\n",
    "from numpy import mean, std, asarray\n",
    "\n",
    "from sklearn.model_selection import RepeatedKFold\n",
    "from sklearn import preprocessing\n",
    "from sklearn.preprocessing import OneHotEncoder\n",
    "\n",
    "print(tf.__version__)"
   ]
  },
  {
   "cell_type": "markdown",
   "id": "4d4005be",
   "metadata": {},
   "source": [
    "# Setting the data\n",
    "\n",
    "For this second iteration, I used  the results from the audiogram test to define the settings of the devices and added the remaining features (gender, age, comp_speed, experience) without a one-hot encoder tehcnique for gender"
   ]
  },
  {
   "cell_type": "code",
   "execution_count": 2,
   "id": "6452432a",
   "metadata": {},
   "outputs": [],
   "source": [
    "inputs = pd.read_csv('input.csv')\n",
    "\n",
    "gender = pd.get_dummies(inputs.gender, prefix='gender')\n",
    "inputs = inputs.join(gender)"
   ]
  },
  {
   "cell_type": "code",
   "execution_count": 3,
   "id": "7bab84ed",
   "metadata": {},
   "outputs": [
    {
     "name": "stdout",
     "output_type": "stream",
     "text": [
      "(2989, 12) (2989, 7)\n"
     ]
    }
   ],
   "source": [
    "X = inputs[['age','comp_speed', 'experience', 'gender_1', 'gender_2','audr_500', 'audr_1k', 'audr_2k', 'audr_3k', 'audr_4k', 'audr_6k', 'audr_8k']].values[:-10]\n",
    "x_test =  inputs[['age','comp_speed', 'experience','gender_1', 'gender_2' ,'audr_500', 'audr_1k', 'audr_2k', 'audr_3k', 'audr_4k', 'audr_6k', 'audr_8k']].values[-10:]\n",
    "\n",
    "outputs = pd.read_csv('output.csv').iloc[:2999]\n",
    "y = outputs.values[:-10]\n",
    "y_test = outputs.values[-10:]\n",
    "\n",
    "print(X.shape, y.shape)"
   ]
  },
  {
   "cell_type": "code",
   "execution_count": 4,
   "id": "d8911a95",
   "metadata": {},
   "outputs": [],
   "source": [
    "def evaluate_model(X, y):\n",
    "    results = list()\n",
    "    n_inputs, n_outputs = X.shape[1], y.shape[1]\n",
    "    # define evaluation procedure\n",
    "    cv = RepeatedKFold(n_splits=10, n_repeats=3, random_state=1)\n",
    "    # enumerate folds\n",
    "    for train_ix, test_ix in cv.split(X):\n",
    "        # prepare data\n",
    "        X_train, X_test = X[train_ix], X[test_ix]\n",
    "        y_train, y_test = y[train_ix], y[test_ix]\n",
    "        # define model\n",
    "        model = base_model(n_inputs, n_outputs)\n",
    "        # fit model\n",
    "        model.fit(X_train, y_train, verbose=0, epochs=100)\n",
    "        # evaluate model on test set\n",
    "        mae = model.evaluate(X_test, y_test, verbose=0)\n",
    "        # store result\n",
    "        print('>%.3f' % mae)\n",
    "        results.append(mae)\n",
    "    return results"
   ]
  },
  {
   "cell_type": "code",
   "execution_count": 5,
   "id": "c65e2af3",
   "metadata": {},
   "outputs": [],
   "source": [
    "def base_model(n_inputs, n_outputs):\n",
    "    model = Sequential()\n",
    "    \n",
    "    # Input layer & hidden layer\n",
    "    model.add(Dense(10, input_dim=n_inputs, kernel_initializer='he_uniform', activation='relu'))\n",
    "    \n",
    "    # Output layer\n",
    "    model.add(Dense(n_outputs, activation='linear'))\n",
    "    \n",
    "    model.compile(loss='mae', optimizer='adam')\n",
    "\n",
    "    return model"
   ]
  },
  {
   "cell_type": "code",
   "execution_count": 6,
   "id": "7bab4547",
   "metadata": {},
   "outputs": [
    {
     "name": "stdout",
     "output_type": "stream",
     "text": [
      "WARNING:tensorflow:From C:\\Users\\ramme\\Anaconda3\\lib\\site-packages\\tensorflow\\python\\ops\\init_ops.py:1251: calling VarianceScaling.__init__ (from tensorflow.python.ops.init_ops) with dtype is deprecated and will be removed in a future version.\n",
      "Instructions for updating:\n",
      "Call initializer instance with the dtype argument instead of passing it to the constructor\n",
      ">0.891\n",
      ">0.911\n",
      ">0.877\n",
      ">0.888\n",
      ">0.938\n",
      ">0.947\n",
      ">0.897\n",
      ">0.958\n",
      ">0.973\n",
      ">0.976\n",
      ">0.964\n",
      ">0.862\n",
      ">0.933\n",
      ">0.884\n",
      ">0.915\n",
      ">0.805\n",
      ">0.872\n",
      ">0.920\n",
      ">0.905\n",
      ">1.055\n",
      ">0.904\n",
      ">0.960\n",
      ">0.969\n",
      ">1.193\n",
      ">0.796\n",
      ">0.866\n",
      ">0.849\n",
      ">1.099\n",
      ">0.882\n",
      ">0.999\n",
      "MAE: 0.930 (0.080)\n"
     ]
    }
   ],
   "source": [
    "# evaluate model\n",
    "results = evaluate_model(X, y)\n",
    "# summarize performance\n",
    "print('MAE: %.3f (%.3f)' % (mean(results), std(results)))"
   ]
  },
  {
   "cell_type": "markdown",
   "id": "30f0e785",
   "metadata": {},
   "source": [
    "## Training the model on all the data as the final model for this baseline\n",
    "\n",
    "This latest model can be used to test additional data if needed - or could be used by a audiologist"
   ]
  },
  {
   "cell_type": "code",
   "execution_count": 7,
   "id": "ff1f5f07",
   "metadata": {},
   "outputs": [],
   "source": [
    "n_inputs, n_outputs = X.shape[1], y.shape[1]\n",
    "\n",
    "model = base_model(n_inputs, n_outputs)\n",
    "\n",
    "# fit the model on all data\n",
    "model.fit(X, y, verbose=0, epochs=100);"
   ]
  },
  {
   "cell_type": "code",
   "execution_count": 8,
   "id": "fe243665",
   "metadata": {},
   "outputs": [
    {
     "name": "stdout",
     "output_type": "stream",
     "text": [
      "Predicted: [ 1.79  4.79  3.92  9.16 24.29 24.16 24.35]\n",
      "Real value: [ 2.    6.13  4.88  9.82 22.13 21.7  20.95]\n",
      "Diff: [-0.21 -1.34 -0.96 -0.66  2.16  2.46  3.4 ]\n",
      "\n",
      "\n",
      "Predicted: [ 1.96  4.53  5.17  7.82 15.72 15.76 15.95]\n",
      "Real value: [ 2.    6.28  5.03  7.47 14.95 15.52 16.08]\n",
      "Diff: [-0.04 -1.75  0.14  0.35  0.77  0.24 -0.13]\n",
      "\n",
      "\n",
      "Predicted: [1.89 1.93 1.41 1.91 3.7  3.78 3.85]\n",
      "Real value: [2.   2.   2.   2.   3.   2.82 2.64]\n",
      "Diff: [-0.11 -0.07 -0.59 -0.09  0.7   0.96  1.21]\n",
      "\n",
      "\n",
      "Predicted: [1.55 1.31 3.38 3.92 5.69 5.68 5.67]\n",
      "Real value: [2.   2.   3.51 4.15 5.51 5.73 6.09]\n",
      "Diff: [-0.45 -0.69 -0.13 -0.23  0.18 -0.05 -0.42]\n",
      "\n",
      "\n",
      "Predicted: [2.22 2.23 3.09 3.9  6.68 6.39 6.21]\n",
      "Real value: [2.   2.   3.33 4.28 7.38 7.32 7.18]\n",
      "Diff: [ 0.22  0.23 -0.24 -0.38 -0.7  -0.93 -0.97]\n",
      "\n",
      "\n",
      "Predicted: [1.81 2.07 2.04 3.59 8.72 8.71 8.72]\n",
      "Real value: [2.   2.   2.   3.77 9.37 9.52 9.65]\n",
      "Diff: [-0.19  0.07  0.04 -0.18 -0.65 -0.81 -0.93]\n",
      "\n",
      "\n",
      "Predicted: [2.47 3.68 2.52 3.35 6.23 6.2  6.23]\n",
      "Real value: [2.59 3.87 2.   2.99 6.02 6.01 5.98]\n",
      "Diff: [-0.12 -0.19  0.52  0.36  0.21  0.19  0.25]\n",
      "\n",
      "\n",
      "Predicted: [ 1.64  3.32  4.45  7.37 15.84 15.78 15.9 ]\n",
      "Real value: [ 2.    3.67  4.97  7.95 15.9  16.3  16.66]\n",
      "Diff: [-0.36 -0.35 -0.52 -0.58 -0.06 -0.52 -0.76]\n",
      "\n",
      "\n",
      "Predicted: [2.06 3.63 2.79 4.23 8.74 8.87 9.05]\n",
      "Real value: [ 2.    4.36  2.87  4.3   8.76  9.67 10.72]\n",
      "Diff: [ 0.06 -0.73 -0.08 -0.07 -0.02 -0.8  -1.67]\n",
      "\n",
      "\n",
      "Predicted: [ 2.96  7.87  6.27  7.7  12.7  13.05 13.46]\n",
      "Real value: [ 2.93  8.28  4.98  6.51 12.09 12.51 13.02]\n",
      "Diff: [ 0.03 -0.41  1.29  1.19  0.61  0.54  0.44]\n",
      "\n",
      "\n"
     ]
    }
   ],
   "source": [
    "# checks what it looks like\n",
    "i=0\n",
    "while i < len(x_test):\n",
    "    \n",
    "    row = x_test[i]\n",
    "    yhat = model.predict(asarray([row]))\n",
    "    print('Predicted:', np.round_(yhat[0], decimals = 2))\n",
    "    print('Real value:', np.round_(y_test[i], decimals = 2))\n",
    "    print('Diff:', np.round_(np.round_(yhat[0], decimals = 2) - np.round_(y_test[i], decimals = 2), decimals=2))\n",
    "    \n",
    "    print('\\n')\n",
    "    i+=1"
   ]
  }
 ],
 "metadata": {
  "kernelspec": {
   "display_name": "Python 3 (ipykernel)",
   "language": "python",
   "name": "python3"
  },
  "language_info": {
   "codemirror_mode": {
    "name": "ipython",
    "version": 3
   },
   "file_extension": ".py",
   "mimetype": "text/x-python",
   "name": "python",
   "nbconvert_exporter": "python",
   "pygments_lexer": "ipython3",
   "version": "3.7.3"
  }
 },
 "nbformat": 4,
 "nbformat_minor": 5
}
